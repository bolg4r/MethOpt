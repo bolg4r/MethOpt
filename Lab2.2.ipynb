{
 "cells": [
  {
   "cell_type": "code",
   "execution_count": 1,
   "metadata": {},
   "outputs": [],
   "source": [
    "import gurobipy as gp\n",
    "from gurobipy import GRB"
   ]
  },
  {
   "cell_type": "code",
   "execution_count": 2,
   "metadata": {},
   "outputs": [],
   "source": [
    "A1_cost = 3.25\n",
    "B1_cost = 3.40\n",
    "A_r = 100000\n",
    "B_r = 30000\n",
    "R = 100000\n",
    "R_cost = 0.35\n",
    "\n",
    "#snd article\n",
    "\n",
    "A_r1= 0.15\n",
    "A_r2 = 0.85\n",
    "B_r1 = 0.25\n",
    "B_r2 = 0.75\n",
    "\n",
    "Conv = 50000\n",
    "Conv_c = 0.25\n",
    "Conv_r1 = 0.5\n",
    "Conv_r2 = 0.5\n",
    "\n",
    "Filt_c = 0.10\n",
    "\n",
    "\n",
    "#sell\n",
    "\n",
    "p2_c = 3.80\n",
    "#p1_c45 = 5.50\n",
    "#p1_c4 = 5.2\n",
    "p1_c_inf = 5.0\n",
    "\n",
    "p1_need = 40000\n",
    "\n",
    "p1_b = 5.75\n",
    "p2_b = 4.00\n",
    "\n",
    "\n"
   ]
  },
  {
   "cell_type": "code",
   "execution_count": 3,
   "metadata": {},
   "outputs": [
    {
     "name": "stdout",
     "output_type": "stream",
     "text": [
      "Academic license - for non-commercial use only - expires 2022-09-10\n"
     ]
    },
    {
     "ename": "UnicodeDecodeError",
     "evalue": "'utf-8' codec can't decode byte 0xd0 in position 28: invalid continuation byte",
     "output_type": "error",
     "traceback": [
      "\u001b[1;31m---------------------------------------------------------------------------\u001b[0m",
      "\u001b[1;31mUnicodeDecodeError\u001b[0m                        Traceback (most recent call last)",
      "\u001b[1;32msrc\\gurobipy\\extern.pxi\u001b[0m in \u001b[0;36mgurobipy.__bytestostring\u001b[1;34m()\u001b[0m\n",
      "\u001b[1;31mUnicodeDecodeError\u001b[0m: 'utf-8' codec can't decode byte 0xd0 in position 28: invalid continuation byte"
     ]
    },
    {
     "name": "stderr",
     "output_type": "stream",
     "text": [
      "Exception ignored in: 'gurobipy.logcallbackstub'\n",
      "Traceback (most recent call last):\n",
      "  File \"src\\gurobipy\\extern.pxi\", line 19, in gurobipy.__bytestostring\n",
      "UnicodeDecodeError: 'utf-8' codec can't decode byte 0xd0 in position 28: invalid continuation byte\n"
     ]
    }
   ],
   "source": [
    "a = gp.Model('smth')\n",
    "Q1 = a.addVar(vtype = GRB.INTEGER, name = 'buyA_before')\n",
    "Q2 = a.addVar(vtype = GRB.INTEGER, name = 'buyB_before')\n",
    "Q3 = a.addVar(vtype = GRB.INTEGER, name = '2to1_convert')\n",
    "#Q4 = a.addVar(vtype = GRB.INTEGER, name = '1for_5.5')\n",
    "#Q5 = a.addVar(vtype = GRB.INTEGER, name = '1for_5.2')\n",
    "Q6 = a.addVar(vtype = GRB.INTEGER, name = 'buy1_after')\n",
    "Q7 = a.addVar(vtype = GRB.INTEGER, name = 'buy2_after')\n",
    "Q8 = a.addVar(vtype = GRB.CONTINUOUS, name = 'Price_of1')"
   ]
  },
  {
   "cell_type": "code",
   "execution_count": 4,
   "metadata": {},
   "outputs": [],
   "source": [
    "pr1_amount = A_r1*Q1 + B_r1*Q2 + Conv_r1*Q3 + Q6\n",
    "pr2_amount = A_r2*Q1 + B_r2*Q2 - Conv_r2*Q3 + Q7\n",
    "\n",
    "charges = A1_cost*Q1 + B1_cost*Q2 + R_cost*(Q1 + Q2) + Conv_c*Q3 +\\\n",
    "Filt_c*(A_r1*Q1 + Conv_c*Q2 + Conv_r1*Q3) + p1_b*Q6 + p2_b*Q7\n",
    "\n",
    "income = pr1_amount*Q8 + p2_c*pr2_amount\n",
    "\n",
    "a.setObjective(Q8, GRB.MINIMIZE)"
   ]
  },
  {
   "cell_type": "code",
   "execution_count": 5,
   "metadata": {},
   "outputs": [
    {
     "name": "stdout",
     "output_type": "stream",
     "text": [
      "Changed value of parameter NonConvex to 2\n",
      "   Prev: -1  Min: -1  Max: 2  Default: -1\n",
      "Minimize\n",
      "   <gurobi.LinExpr: Price_of1>\n",
      "Subject To\n",
      "   R0 : <gurobi.LinExpr: buyA_before> <= 100000.0\n",
      "   R1 : <gurobi.LinExpr: buyB_before> <= 30000.0\n",
      "   R2 : <gurobi.LinExpr: buyA_before + buyB_before> <= 100000.0\n",
      "   R3 : <gurobi.LinExpr: 2to1_convert> <= 50000.0\n",
      "   R4 : <gurobi.LinExpr: 0.15 buyA_before + 0.25 buyB_before + 0.5 2to1_convert + buy1_after> >= 40000.0\n",
      "   R5 : <gurobi.LinExpr: -0.85 buyA_before + -0.75 buyB_before + 2to1_convert> <= 0.0\n",
      "    : <gurobi.QuadExpr: -0.385 buyA_before + -0.9250000000000003 buyB_before + -2.1999999999999997 2to1_convert + -5.75 buy1_after + -0.20000000000000018 buy2_after + [ 0.15 buyA_before * Price_of1 + 0.25 buyB_before * Price_of1 + 0.5 2to1_convert * Price_of1 + buy1_after * Price_of1 ]> >= 50000.0\n",
      "General Integers\n",
      "   ['buyA_before', 'buyB_before', '2to1_convert', 'buy1_after', 'buy2_after']\n",
      "None\n",
      "Gurobi Optimizer version 9.1.2 build v9.1.2rc0 (win64)\n",
      "Thread count: 2 physical cores, 4 logical processors, using up to 4 threads\n",
      "Optimize a model with 6 rows, 6 columns and 12 nonzeros\n",
      "Model fingerprint: 0xdd75526a\n",
      "Model has 1 quadratic constraint\n",
      "Variable types: 1 continuous, 5 integer (0 binary)\n",
      "Coefficient statistics:\n",
      "  Matrix range     [1e-01, 1e+00]\n",
      "  QMatrix range    [1e-01, 1e+00]\n",
      "  QLMatrix range   [2e-01, 6e+00]\n",
      "  Objective range  [1e+00, 1e+00]\n",
      "  Bounds range     [0e+00, 0e+00]\n",
      "  RHS range        [3e+04, 1e+05]\n",
      "  QRHS range       [5e+04, 5e+04]\n",
      "Found heuristic solution: objective 2.000000e+09\n",
      "Presolve removed 3 rows and 1 columns\n",
      "Presolve time: 0.00s\n",
      "Presolved: 12 rows, 10 columns, 33 nonzeros\n",
      "Presolved model has 4 bilinear constraint(s)\n",
      "Variable types: 6 continuous, 4 integer (0 binary)\n",
      "\n",
      "Root relaxation: objective 0.000000e+00, 7 iterations, 0.00 seconds\n",
      "\n",
      "    Nodes    |    Current Node    |     Objective Bounds      |     Work\n",
      " Expl Unexpl |  Obj  Depth IntInf | Incumbent    BestBd   Gap | It/Node Time\n",
      "\n",
      "     0     0    0.00000    0    1 2.0000e+09    0.00000   100%     -    0s\n",
      "     0     0    0.00000    0    1 2.0000e+09    0.00000   100%     -    0s\n",
      "H    0     0                       4.9625000    0.00000   100%     -    0s\n",
      "     0     1    4.96250    0    6    4.96250    4.96250  0.00%     -    0s\n",
      "\n",
      "Explored 1 nodes (17 simplex iterations) in 0.07 seconds\n",
      "Thread count was 4 (of 4 available processors)\n",
      "\n",
      "Solution count 2: 4.9625 2e+09 \n",
      "\n",
      "Optimal solution found (tolerance 1.00e-04)\n",
      "Best objective 4.962500000000e+00, best bound 4.962498854944e+00, gap 0.0000%\n"
     ]
    }
   ],
   "source": [
    "a.addConstr(Q1<=A_r)\n",
    "a.addConstr(Q2<=B_r)\n",
    "a.addConstr(Q1+Q2<=R)\n",
    "a.addConstr(Q3<=Conv)\n",
    "a.addConstr(pr1_amount>=p1_need)\n",
    "a.addConstr (Q3<=A_r2*Q1 + B_r2*Q2 + Q7)\n",
    "a.addConstr(income - charges>=50000)\n",
    "a.params.NonConvex =2 \n",
    "a.update()\n",
    "\n",
    "print(a.display())\n",
    "a.optimize()"
   ]
  },
  {
   "cell_type": "code",
   "execution_count": 6,
   "metadata": {},
   "outputs": [
    {
     "name": "stdout",
     "output_type": "stream",
     "text": [
      "\n",
      "Proce of p1: 4.9625\n",
      "buyA_before 100000\n",
      "buyB_before 0\n",
      "2to1_convert 50000\n",
      "buy1_after -0\n",
      "buy2_after 0\n",
      "Price_of1 4.9625\n"
     ]
    }
   ],
   "source": [
    "if a.status == GRB.OPTIMAL:\n",
    "    print('\\nProce of p1: %g' % a.objVal)\n",
    "    for v in a.getVars():\n",
    "        print('%s %g' % (v.varName, v.x))\n",
    "else:\n",
    "    print('No solution')"
   ]
  },
  {
   "cell_type": "code",
   "execution_count": null,
   "metadata": {},
   "outputs": [],
   "source": []
  },
  {
   "cell_type": "code",
   "execution_count": null,
   "metadata": {},
   "outputs": [],
   "source": [
    "\n"
   ]
  }
 ],
 "metadata": {
  "kernelspec": {
   "display_name": "Python 3",
   "language": "python",
   "name": "python3"
  },
  "language_info": {
   "codemirror_mode": {
    "name": "ipython",
    "version": 3
   },
   "file_extension": ".py",
   "mimetype": "text/x-python",
   "name": "python",
   "nbconvert_exporter": "python",
   "pygments_lexer": "ipython3",
   "version": "3.8.5"
  }
 },
 "nbformat": 4,
 "nbformat_minor": 5
}
