{
 "cells": [
  {
   "cell_type": "code",
   "execution_count": 2,
   "id": "challenging-disabled",
   "metadata": {},
   "outputs": [],
   "source": [
    "import gurobipy as gp\n",
    "from gurobipy import GRB\n",
    "import numpy as np\n",
    "from random import randrange\n",
    "import string\n",
    "import math\n"
   ]
  },
  {
   "cell_type": "code",
   "execution_count": 3,
   "id": "considerable-bottle",
   "metadata": {},
   "outputs": [],
   "source": [
    "Y = 13 \n",
    "R = 40 \n",
    "S = 17\n",
    "M = [42, 28, 21, 42, 68, 63, 30, 35, 27, 29, 61, 20, 45]\n",
    "P =[23, 21, 19, 24, 24, 16, 23, 24, 17, 21, 28, 28, 28]\n",
    "C =[642, 450, 687, 468, 667, 540, 594, 446, 685, 545, 470, 522, 509]\n"
   ]
  },
  {
   "cell_type": "code",
   "execution_count": null,
   "id": "lyric-health",
   "metadata": {},
   "outputs": [],
   "source": [
    "\n"
   ]
  },
  {
   "cell_type": "code",
   "execution_count": 4,
   "id": "private-ecuador",
   "metadata": {},
   "outputs": [
    {
     "name": "stdout",
     "output_type": "stream",
     "text": [
      "Academic license - for non-commercial use only - expires 2022-09-10\n"
     ]
    },
    {
     "ename": "UnicodeDecodeError",
     "evalue": "'utf-8' codec can't decode byte 0xd0 in position 28: invalid continuation byte",
     "output_type": "error",
     "traceback": [
      "\u001b[1;31m---------------------------------------------------------------------------\u001b[0m",
      "\u001b[1;31mUnicodeDecodeError\u001b[0m                        Traceback (most recent call last)",
      "\u001b[1;32msrc\\gurobipy\\extern.pxi\u001b[0m in \u001b[0;36mgurobipy.__bytestostring\u001b[1;34m()\u001b[0m\n",
      "\u001b[1;31mUnicodeDecodeError\u001b[0m: 'utf-8' codec can't decode byte 0xd0 in position 28: invalid continuation byte"
     ]
    },
    {
     "name": "stderr",
     "output_type": "stream",
     "text": [
      "Exception ignored in: 'gurobipy.logcallbackstub'\n",
      "Traceback (most recent call last):\n",
      "  File \"src\\gurobipy\\extern.pxi\", line 19, in gurobipy.__bytestostring\n",
      "UnicodeDecodeError: 'utf-8' codec can't decode byte 0xd0 in position 28: invalid continuation byte\n"
     ]
    },
    {
     "name": "stdout",
     "output_type": "stream",
     "text": [
      "Maximize\n",
      "   <gurobi.LinExpr: 602.0 x[0] + 410.0 x[1] + 647.0 x[2] + 428.0 x[3] + 627.0 x[4] + 500.0 x[5] + 554.0 x[6] + 406.0 x[7] + 645.0 x[8] + 505.0 x[9] + 430.0 x[10] + 482.0 x[11] + 469.0 x[12]>\n",
      "Subject To\n",
      "   R0 : <gurobi.LinExpr: 2.0 x[0] + 2.0 x[1] + 2.0 x[2] + 2.0 x[3] + 3.0 x[4] + 4.0 x[5] + 2.0 x[6] + 2.0 x[7] + 2.0 x[8] + 2.0 x[9] + 3.0 x[10] + x[11] + 2.0 x[12]> <= 17.0\n",
      "Binaries\n",
      "   ['x[0]', 'x[1]', 'x[2]', 'x[3]', 'x[4]', 'x[5]', 'x[6]', 'x[7]', 'x[8]', 'x[9]', 'x[10]', 'x[11]', 'x[12]']\n",
      "None\n",
      "Gurobi Optimizer version 9.1.2 build v9.1.2rc0 (win64)\n",
      "Thread count: 2 physical cores, 4 logical processors, using up to 4 threads\n",
      "Optimize a model with 1 rows, 13 columns and 13 nonzeros\n",
      "Model fingerprint: 0x3c9d8b9e\n",
      "Variable types: 0 continuous, 13 integer (13 binary)\n",
      "Coefficient statistics:\n",
      "  Matrix range     [1e+00, 4e+00]\n",
      "  Objective range  [4e+02, 6e+02]\n",
      "  Bounds range     [1e+00, 1e+00]\n",
      "  RHS range        [2e+01, 2e+01]\n",
      "Found heuristic solution: objective 3768.0000000\n",
      "Presolve removed 1 rows and 13 columns\n",
      "Presolve time: 0.00s\n",
      "Presolve: All rows and columns removed\n",
      "\n",
      "Explored 0 nodes (0 simplex iterations) in 0.05 seconds\n",
      "Thread count was 1 (of 4 available processors)\n",
      "\n",
      "Solution count 2: 4742 3768 \n",
      "\n",
      "Optimal solution found (tolerance 1.00e-04)\n",
      "Best objective 4.742000000000e+03, best bound 4.742000000000e+03, gap 0.0000%\n"
     ]
    }
   ],
   "source": [
    "problem = gp.Model('factoryProblem')\n",
    "x = problem.addVars(range(Y), vtype = GRB.BINARY, name = 'x')\n",
    "Dif = [x-R for x in C]\n",
    "obj = gp.LinExpr(list(Dif),x.values()) \n",
    "problem.setObjective (obj,GRB.MAXIMIZE)\n",
    "A = [math.ceil(x/y) for x , y in zip (M,P)]\n",
    "problem.addConstr(gp.LinExpr(list(A), x.values())<= S)\n",
    "problem.update()\n",
    "print (problem.display())\n",
    "problem.optimize()"
   ]
  },
  {
   "cell_type": "code",
   "execution_count": 5,
   "id": "square-arlington",
   "metadata": {},
   "outputs": [
    {
     "name": "stdout",
     "output_type": "stream",
     "text": [
      "\n",
      "Profit: 4742\n",
      "x[0] 1\n",
      "x[1] 1\n",
      "x[2] 1\n",
      "x[3] 1\n",
      "x[4] 0\n",
      "x[5] 0\n",
      "x[6] 1\n",
      "x[7] 0\n",
      "x[8] 1\n",
      "x[9] 1\n",
      "x[10] 0\n",
      "x[11] 1\n",
      "x[12] 1\n"
     ]
    }
   ],
   "source": [
    "if problem.status == GRB.OPTIMAL:\n",
    "    print('\\nProfit: %g' % problem.objVal)\n",
    "    for v in problem.getVars():\n",
    "        print('%s %g' % (v.varName, v.x))\n",
    "else:\n",
    "    print('No solution')"
   ]
  },
  {
   "cell_type": "code",
   "execution_count": null,
   "id": "saved-coordinator",
   "metadata": {},
   "outputs": [],
   "source": []
  },
  {
   "cell_type": "code",
   "execution_count": null,
   "id": "improving-orientation",
   "metadata": {},
   "outputs": [],
   "source": [
    "\n",
    "\n",
    "\n"
   ]
  }
 ],
 "metadata": {
  "kernelspec": {
   "display_name": "Python 3",
   "language": "python",
   "name": "python3"
  },
  "language_info": {
   "codemirror_mode": {
    "name": "ipython",
    "version": 3
   },
   "file_extension": ".py",
   "mimetype": "text/x-python",
   "name": "python",
   "nbconvert_exporter": "python",
   "pygments_lexer": "ipython3",
   "version": "3.9.2"
  }
 },
 "nbformat": 4,
 "nbformat_minor": 5
}
