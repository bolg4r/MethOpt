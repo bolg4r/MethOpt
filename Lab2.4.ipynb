{
 "cells": [
  {
   "cell_type": "code",
   "execution_count": 1,
   "metadata": {},
   "outputs": [],
   "source": [
    "\n",
    "import gurobipy as gp\n",
    "from gurobipy import GRB"
   ]
  },
  {
   "cell_type": "code",
   "execution_count": 2,
   "metadata": {},
   "outputs": [],
   "source": [
    "A1_cost = 3.25\n",
    "B1_cost = 3.40\n",
    "A_r = 100000\n",
    "B_r = 30000\n",
    "R = 100000\n",
    "R_cost = 0.35\n",
    "\n",
    "#snd article\n",
    "\n",
    "A_r1= 0.15\n",
    "A_r2 = 0.85\n",
    "B_r1 = 0.25\n",
    "B_r2 = 0.75\n",
    "\n",
    "Conv = 50000\n",
    "Conv_c = 0.25\n",
    "Conv_r1 = 0.5\n",
    "Conv_r2 = 0.5\n",
    "\n",
    "Filt_c = 0.10\n",
    "\n",
    "\n",
    "#sell\n",
    "\n",
    "p2_c = 3.80\n",
    "p1_c45 = 5.50\n",
    "p1_c4 = 5.2\n",
    "p1_c_inf = 5.0\n",
    "\n",
    "p1_need = 40000\n",
    "\n",
    "p1_b = 5.75\n",
    "p2_b = 4.00\n",
    "\n"
   ]
  },
  {
   "cell_type": "code",
   "execution_count": 3,
   "metadata": {},
   "outputs": [
    {
     "name": "stdout",
     "output_type": "stream",
     "text": [
      "Set parameter Username\n",
      "Academic license - for non-commercial use only - expires 2022-09-10\n"
     ]
    }
   ],
   "source": [
    "a = gp.Model('smth')\n",
    "Q1 = a.addVar(vtype = GRB.INTEGER, name = 'buyA_before')\n",
    "Q2 = a.addVar(vtype = GRB.INTEGER, name = 'buyB_before')\n",
    "Q3 = a.addVar(vtype = GRB.INTEGER, name = '2to1_convert')\n",
    "Q4 = a.addVar(vtype = GRB.INTEGER, name = '1for_5.5')\n",
    "Q5 = a.addVar(vtype = GRB.INTEGER, name = '1for_5.2')\n",
    "Q6 = a.addVar(vtype = GRB.INTEGER, name = 'buy1_after')\n",
    "Q7 = a.addVar(vtype = GRB.INTEGER, name = 'buy2_after')"
   ]
  },
  {
   "cell_type": "code",
   "execution_count": 4,
   "metadata": {},
   "outputs": [],
   "source": [
    "\n",
    "pr1_amount = A_r1*Q1 + B_r1*Q2 + Conv_r1*Q3 + Q6\n",
    "pr2_amount = A_r2*Q1 + B_r2*Q2 - Conv_r2*Q3 + Q7\n",
    "\n",
    "charges = A1_cost*Q1 + B1_cost*Q2 + R_cost*(Q1 + Q2) + Conv_c*Q3 +\\\n",
    "+ p1_b*Q6 + p2_b*Q7\n",
    "\n",
    "income = p1_c45*Q4 + p1_c4*Q5 + p1_c_inf*(pr1_amount - Q4 - Q5)+ p2_c*pr2_amount"
   ]
  },
  {
   "cell_type": "code",
   "execution_count": 5,
   "metadata": {},
   "outputs": [],
   "source": [
    "a.setObjective(income - charges, GRB.MAXIMIZE)\n"
   ]
  },
  {
   "cell_type": "code",
   "execution_count": null,
   "metadata": {},
   "outputs": [],
   "source": []
  },
  {
   "cell_type": "code",
   "execution_count": 6,
   "metadata": {},
   "outputs": [
    {
     "name": "stdout",
     "output_type": "stream",
     "text": [
      "Maximize\n",
      "<gurobi.LinExpr: 0.38 buyA_before + 0.34999999999999976 buyB_before\n",
      "+ 0.3500000000000001 2to1_convert + 0.5 1for_5.5 + 0.20000000000000018 1for_5.2 +\n",
      "-0.75 buy1_after + -0.20000000000000018 buy2_after>\n",
      "Subject To\n",
      "  R0: <gurobi.LinExpr: buyA_before> <= 100000\n",
      "  R1: <gurobi.LinExpr: buyB_before> <= 30000\n",
      "  R2: <gurobi.LinExpr: buyA_before + buyB_before> <= 100000\n",
      "  R3: <gurobi.LinExpr: 2to1_convert> <= 50000\n",
      "  R4: <gurobi.LinExpr: 1for_5.5> <= 45000\n",
      "  R5: <gurobi.LinExpr: 1for_5.2> <= 4000\n",
      "R6: <gurobi.LinExpr: 0.15 buyA_before + 0.25 buyB_before + 0.5 2to1_convert +\n",
      " buy1_after> >= 40000\n",
      "R7: <gurobi.LinExpr: 0.15 buyA_before + 0.25 buyB_before + 0.5 2to1_convert + -1.0\n",
      " 1for_5.5 + -1.0 1for_5.2 + buy1_after> >= 0\n",
      "R8: <gurobi.LinExpr: -0.85 buyA_before + -0.75 buyB_before + 2to1_convert + -1.0\n",
      " buy2_after> <= 0\n",
      "  R9: <gurobi.LinExpr: 1for_5.5> = 0\n",
      "  R10: <gurobi.LinExpr: 1for_5.2> = 0\n",
      "  R11: <gurobi.LinExpr: buyB_before> >= 0\n",
      "  R12: <gurobi.LinExpr: 2to1_convert> >= 0\n",
      "  R13: <gurobi.LinExpr: buy1_after> >= 0\n",
      "  R14: <gurobi.LinExpr: buy2_after> >= 0\n",
      "General Integers\n",
      "['buyA_before', 'buyB_before', '2to1_convert', '1for_5.5', '1for_5.2', 'buy1_after',\n",
      " 'buy2_after']\n",
      "None\n",
      "Gurobi Optimizer version 9.5.0 build v9.5.0rc5 (win64)\n",
      "Thread count: 2 physical cores, 4 logical processors, using up to 4 threads\n",
      "Optimize a model with 15 rows, 7 columns and 27 nonzeros\n",
      "Model fingerprint: 0xbf6e5faf\n",
      "Variable types: 0 continuous, 7 integer (0 binary)\n",
      "Coefficient statistics:\n",
      "  Matrix range     [1e-01, 1e+00]\n",
      "  Objective range  [2e-01, 8e-01]\n",
      "  Bounds range     [0e+00, 0e+00]\n",
      "  RHS range        [4e+03, 1e+05]\n",
      "Found heuristic solution: objective 55500.000000\n",
      "Presolve removed 15 rows and 7 columns\n",
      "Presolve time: 0.00s\n",
      "Presolve: All rows and columns removed\n",
      "\n",
      "Explored 0 nodes (0 simplex iterations) in 0.03 seconds (0.00 work units)\n",
      "Thread count was 1 (of 4 available processors)\n",
      "\n",
      "Solution count 1: 55500 \n",
      "\n",
      "Optimal solution found (tolerance 1.00e-04)\n",
      "Best objective 5.550000000000e+04, best bound 5.550000000000e+04, gap 0.0000%\n"
     ]
    }
   ],
   "source": [
    "a.addConstr(Q1<=A_r)\n",
    "a.addConstr(Q2<=B_r)\n",
    "a.addConstr(Q1+Q2<=R)\n",
    "a.addConstr(Q3<=Conv)\n",
    "a.addConstr(Q4<=45000)\n",
    "a.addConstr(Q5<=4000)\n",
    "a.addConstr(pr1_amount>=p1_need)\n",
    "a.addConstr(pr1_amount - Q4-Q5>=0)\n",
    "a.addConstr (Q3<=A_r2*Q1 + B_r2*Q2 + Q7)\n",
    "\n",
    "a.addConstr(Q4==0)\n",
    "a.addConstr(Q5==0)\n",
    "a.addConstr(Q2>=0)\n",
    "a.addConstr(Q3>=0)\n",
    "a.addConstr(Q6>=0)\n",
    "a.addConstr(Q7>=0)\n",
    "a.update()\n",
    "\n",
    "print(a.display())\n",
    "a.optimize()\n",
    "\n"
   ]
  },
  {
   "cell_type": "code",
   "execution_count": 7,
   "metadata": {},
   "outputs": [
    {
     "name": "stdout",
     "output_type": "stream",
     "text": [
      "\n",
      "Profit: 55500\n",
      "buyA_before 100000\n",
      "buyB_before 0\n",
      "2to1_convert 50000\n",
      "1for_5.5 0\n",
      "1for_5.2 0\n",
      "buy1_after 0\n",
      "buy2_after 0\n"
     ]
    }
   ],
   "source": [
    "if a.status == GRB.OPTIMAL:\n",
    "    print('\\nProfit: %g' % a.objVal)\n",
    "    for v in a.getVars():\n",
    "        print('%s %g' % (v.varName, v.x))\n",
    "else:\n",
    "    print('No solution')"
   ]
  },
  {
   "cell_type": "code",
   "execution_count": null,
   "metadata": {},
   "outputs": [],
   "source": []
  },
  {
   "cell_type": "code",
   "execution_count": null,
   "metadata": {},
   "outputs": [],
   "source": []
  },
  {
   "cell_type": "code",
   "execution_count": null,
   "metadata": {},
   "outputs": [],
   "source": []
  }
 ],
 "metadata": {
  "kernelspec": {
   "display_name": "Python 3",
   "language": "python",
   "name": "python3"
  },
  "language_info": {
   "codemirror_mode": {
    "name": "ipython",
    "version": 3
   },
   "file_extension": ".py",
   "mimetype": "text/x-python",
   "name": "python",
   "nbconvert_exporter": "python",
   "pygments_lexer": "ipython3",
   "version": "3.8.5"
  }
 },
 "nbformat": 4,
 "nbformat_minor": 5
}
