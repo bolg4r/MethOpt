{
 "cells": [
  {
   "cell_type": "code",
   "execution_count": 24,
   "metadata": {},
   "outputs": [],
   "source": [
    "\n",
    "import gurobipy as gp\n",
    "from gurobipy import GRB"
   ]
  },
  {
   "cell_type": "code",
   "execution_count": 25,
   "metadata": {},
   "outputs": [],
   "source": [
    "A1_cost = 3.25\n",
    "B1_cost = 3.40\n",
    "A_r = 100000\n",
    "B_r = 30000\n",
    "R = 100000\n",
    "R_cost = 0.35\n",
    "\n",
    "#snd article\n",
    "\n",
    "A_r1= 0.15\n",
    "A_r2 = 0.85\n",
    "B_r1 = 0.25\n",
    "B_r2 = 0.75\n",
    "\n",
    "Conv = 50000\n",
    "Conv_c = 0.25\n",
    "Conv_r1 = 0.5\n",
    "Conv_r2 = 0.5\n",
    "\n",
    "Filt_c = 0.10\n",
    "\n",
    "\n",
    "#sell\n",
    "\n",
    "p2_c = 3.80\n",
    "p1_c45 = 5.50\n",
    "p1_c4 = 5.2\n",
    "p1_c_inf = 5.0\n",
    "\n",
    "p1_need = 40000\n",
    "\n",
    "p1_b = 5.75\n",
    "p2_b = 4.00\n",
    "\n"
   ]
  },
  {
   "cell_type": "code",
   "execution_count": 26,
   "metadata": {},
   "outputs": [],
   "source": [
    "a = gp.Model('smth')\n",
    "Q1 = a.addVar(vtype = GRB.INTEGER, name = 'buyA_before')\n",
    "Q2 = a.addVar(vtype = GRB.INTEGER, name = 'buyB_before')\n",
    "Q3 = a.addVar(vtype = GRB.INTEGER, name = '2to1_convert')\n",
    "Q4 = a.addVar(vtype = GRB.INTEGER, name = '1for_5.5')\n",
    "Q5 = a.addVar(vtype = GRB.INTEGER, name = '1for_5.2')\n",
    "Q6 = a.addVar(vtype = GRB.INTEGER, name = 'buy1_after')\n",
    "Q7 = a.addVar(vtype = GRB.INTEGER, name = 'buy2_after')"
   ]
  },
  {
   "cell_type": "code",
   "execution_count": 27,
   "metadata": {},
   "outputs": [],
   "source": [
    "pr1_amount = A_r1*Q1 + B_r1*Q2 + Conv_r1*Q3 + Q6\n",
    "pr2_amount = A_r2*Q1 + B_r2*Q2 - Conv_r2*Q3 + Q7\n",
    "\n",
    "charges = A1_cost*Q1 + B1_cost*Q2 + R_cost*(Q1 + Q2) + Conv_c*Q3 +\\\n",
    "Filt_c*(A_r1*Q1 + Conv_c*Q2 + Conv_r1*Q3) + p1_b*Q6 + p2_b*Q7\n",
    "\n",
    "income = p1_c45*Q4 + p1_c4*Q5 + p1_c_inf*(pr1_amount - Q4 - Q5)+ p2_c*pr2_amount"
   ]
  },
  {
   "cell_type": "code",
   "execution_count": 28,
   "metadata": {},
   "outputs": [],
   "source": [
    "a.setObjective(income - charges, GRB.MAXIMIZE)\n"
   ]
  },
  {
   "cell_type": "code",
   "execution_count": 29,
   "metadata": {},
   "outputs": [
    {
     "name": "stdout",
     "output_type": "stream",
     "text": [
      "Maximize\n",
      "<gurobi.LinExpr: 0.365 buyA_before + 0.32499999999999973 buyB_before\n",
      "+ 0.3000000000000001 2to1_convert + 0.5 1for_5.5 + 0.20000000000000018 1for_5.2 +\n",
      "-0.75 buy1_after + -0.20000000000000018 buy2_after>\n",
      "Subject To\n",
      "  R0: <gurobi.LinExpr: buyA_before> <= 100000\n",
      "  R1: <gurobi.LinExpr: buyB_before> <= 30000\n",
      "  R2: <gurobi.LinExpr: buyA_before + buyB_before> <= 100000\n",
      "  R3: <gurobi.LinExpr: 2to1_convert> <= 50000\n",
      "  R4: <gurobi.LinExpr: 1for_5.5> <= 45000\n",
      "  R5: <gurobi.LinExpr: 1for_5.2> <= 4000\n",
      "R6: <gurobi.LinExpr: 0.15 buyA_before + 0.25 buyB_before + 0.5 2to1_convert +\n",
      " buy1_after> >= 40000\n",
      "R7: <gurobi.LinExpr: 0.15 buyA_before + 0.25 buyB_before + 0.5 2to1_convert + -1.0\n",
      " 1for_5.5 + -1.0 1for_5.2 + buy1_after> >= 0\n",
      "R8: <gurobi.LinExpr: -0.85 buyA_before + -0.75 buyB_before + 2to1_convert + -1.0\n",
      " buy2_after> <= 0\n",
      "  R9: <gurobi.LinExpr: 0.15 buyA_before + 0.25 buyB_before + 0.5 2to1_convert> <= 10000\n",
      "General Integers\n",
      "['buyA_before', 'buyB_before', '2to1_convert', '1for_5.5', '1for_5.2', 'buy1_after',\n",
      " 'buy2_after']\n",
      "None\n",
      "Gurobi Optimizer version 9.5.0 build v9.5.0rc5 (win64)\n",
      "Thread count: 2 physical cores, 4 logical processors, using up to 4 threads\n",
      "Optimize a model with 10 rows, 7 columns and 24 nonzeros\n",
      "Model fingerprint: 0xd2fbae1b\n",
      "Variable types: 0 continuous, 7 integer (0 binary)\n",
      "Coefficient statistics:\n",
      "  Matrix range     [1e-01, 1e+00]\n",
      "  Objective range  [2e-01, 8e-01]\n",
      "  Bounds range     [0e+00, 0e+00]\n",
      "  RHS range        [4e+03, 1e+05]\n",
      "Found heuristic solution: objective 18382.340000\n",
      "Presolve removed 6 rows and 0 columns\n",
      "Presolve time: 0.00s\n",
      "Presolved: 4 rows, 7 columns, 17 nonzeros\n",
      "Variable types: 0 continuous, 7 integer (0 binary)\n",
      "Found heuristic solution: objective 18382.590000\n",
      "\n",
      "Root relaxation: objective 2.183322e+04, 2 iterations, 0.00 seconds (0.00 work units)\n",
      "\n",
      "    Nodes    |    Current Node    |     Objective Bounds      |     Work\n",
      " Expl Unexpl |  Obj  Depth IntInf | Incumbent    BestBd   Gap | It/Node Time\n",
      "\n",
      "     0     0 21833.2200    0    1 18382.5900 21833.2200  18.8%     -    0s\n",
      "H    0     0                    21833.050000 21833.2200  0.00%     -    0s\n",
      "     0     0 21833.2200    0    1 21833.0500 21833.2200  0.00%     -    0s\n",
      "\n",
      "Explored 1 nodes (2 simplex iterations) in 0.03 seconds (0.00 work units)\n",
      "Thread count was 4 (of 4 available processors)\n",
      "\n",
      "Solution count 3: 21833 18382.6 18382.3 \n",
      "\n",
      "Optimal solution found (tolerance 1.00e-04)\n",
      "Best objective 2.183305000000e+04, best bound 2.183305000000e+04, gap 0.0000%\n"
     ]
    }
   ],
   "source": [
    "a.addConstr(Q1<=A_r)\n",
    "a.addConstr(Q2<=B_r)\n",
    "a.addConstr(Q1+Q2<=R)\n",
    "a.addConstr(Q3<=Conv)\n",
    "a.addConstr(Q4<=45000)\n",
    "a.addConstr(Q5<=4000)\n",
    "a.addConstr(pr1_amount>=p1_need)\n",
    "a.addConstr(pr1_amount - Q4-Q5>=0)\n",
    "a.addConstr (Q3<=A_r2*Q1 + B_r2*Q2 + Q7)\n",
    "a.addConstr( A_r1*Q1 + Conv_c*Q2 + Conv_r1*Q3<=10000)\n",
    "a.update()\n",
    "\n",
    "print(a.display())\n",
    "a.optimize()\n"
   ]
  },
  {
   "cell_type": "code",
   "execution_count": 30,
   "metadata": {},
   "outputs": [
    {
     "name": "stdout",
     "output_type": "stream",
     "text": [
      "\n",
      "Profit: 21833\n",
      "buyA_before 66665\n",
      "buyB_before 1\n",
      "2to1_convert -0\n",
      "1for_5.5 40000\n",
      "1for_5.2 -0\n",
      "buy1_after 30000\n",
      "buy2_after -0\n"
     ]
    }
   ],
   "source": [
    "if a.status == GRB.OPTIMAL:\n",
    "    print('\\nProfit: %g' % a.objVal)\n",
    "    for v in a.getVars():\n",
    "        print('%s %g' % (v.varName, v.x))\n",
    "else:\n",
    "    print('No solution')"
   ]
  },
  {
   "cell_type": "code",
   "execution_count": null,
   "metadata": {},
   "outputs": [],
   "source": []
  }
 ],
 "metadata": {
  "kernelspec": {
   "display_name": "Python 3",
   "language": "python",
   "name": "python3"
  },
  "language_info": {
   "codemirror_mode": {
    "name": "ipython",
    "version": 3
   },
   "file_extension": ".py",
   "mimetype": "text/x-python",
   "name": "python",
   "nbconvert_exporter": "python",
   "pygments_lexer": "ipython3",
   "version": "3.8.5"
  }
 },
 "nbformat": 4,
 "nbformat_minor": 5
}
